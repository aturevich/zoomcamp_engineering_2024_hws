{
 "cells": [
  {
   "cell_type": "code",
   "execution_count": 2,
   "metadata": {},
   "outputs": [],
   "source": [
    "import pyspark\n",
    "from pyspark.sql import SparkSession\n",
    "from pyspark.sql import types\n",
    "from pyspark.sql import functions as F\n",
    "import pandas as pd\n",
    "import sys\n",
    "import os"
   ]
  },
  {
   "cell_type": "code",
   "execution_count": 3,
   "metadata": {},
   "outputs": [],
   "source": [
    "os.environ['PYSPARK_PYTHON'] = sys.executable\n",
    "os.environ['PYSPARK_DRIVER_PYTHON'] = sys.executable"
   ]
  },
  {
   "cell_type": "code",
   "execution_count": 4,
   "metadata": {},
   "outputs": [],
   "source": [
    "spark = SparkSession.builder \\\n",
    "    .master(\"local[*]\") \\\n",
    "    .appName('test') \\\n",
    "    .getOrCreate()"
   ]
  },
  {
   "cell_type": "code",
   "execution_count": 5,
   "metadata": {},
   "outputs": [],
   "source": [
    "schema = types.StructType([\n",
    "    types.StructField('Affiliated_base_number', types.StringType(), True),\n",
    "    types.StructField('dispatching_base_num', types.StringType(), True),\n",
    "    types.StructField('pickup_datetime', types.TimestampType(), True),\n",
    "    types.StructField('dropoff_datetime', types.TimestampType(), True),\n",
    "    types.StructField('PULocationID', types.IntegerType(), True),\n",
    "    types.StructField('DOLocationID', types.IntegerType(), True),\n",
    "    types.StructField('SR_Flag', types.StringType(), True)\n",
    "])"
   ]
  },
  {
   "cell_type": "code",
   "execution_count": 6,
   "metadata": {},
   "outputs": [],
   "source": [
    "df = spark.read \\\n",
    "    .option(\"header\", \"true\") \\\n",
    "    .schema(schema) \\\n",
    "    .csv('../data/fhv_tripdata_2019-10_new.csv.gz')"
   ]
  },
  {
   "cell_type": "code",
   "execution_count": 7,
   "metadata": {},
   "outputs": [
    {
     "data": {
      "text/plain": [
       "1897493"
      ]
     },
     "execution_count": 7,
     "metadata": {},
     "output_type": "execute_result"
    }
   ],
   "source": [
    "df.count()"
   ]
  },
  {
   "cell_type": "code",
   "execution_count": 8,
   "metadata": {},
   "outputs": [
    {
     "name": "stdout",
     "output_type": "stream",
     "text": [
      "+----------------------+--------------------+-------------------+----------------+------------+------------+---------------+\n",
      "|Affiliated_base_number|dispatching_base_num|    pickup_datetime|dropoff_datetime|PULocationID|DOLocationID|        SR_Flag|\n",
      "+----------------------+--------------------+-------------------+----------------+------------+------------+---------------+\n",
      "|                B00009| 2019-10-01 00:23:00|2019-10-01 00:35:00|            null|         264|        null|         B00009|\n",
      "|                B00013| 2019-10-01 00:11:29|2019-10-01 00:13:22|            null|         264|        null|         B00013|\n",
      "|                B00014| 2019-10-01 00:11:43|2019-10-01 00:37:20|            null|         264|        null|         B00014|\n",
      "|                B00014| 2019-10-01 00:56:29|2019-10-01 00:57:47|            null|         264|        null|         B00014|\n",
      "|                B00014| 2019-10-01 00:23:09|2019-10-01 00:28:27|            null|         264|        null|         B00014|\n",
      "|       B00021         | 2019-10-01 00:00:48|2019-10-01 00:07:12|            null|         129|        null|B00021         |\n",
      "|       B00021         | 2019-10-01 00:47:23|2019-10-01 00:53:25|            null|          57|        null|B00021         |\n",
      "|       B00021         | 2019-10-01 00:10:06|2019-10-01 00:19:50|            null|         173|        null|B00021         |\n",
      "|       B00021         | 2019-10-01 00:51:37|2019-10-01 01:06:14|            null|         226|        null|B00021         |\n",
      "|       B00021         | 2019-10-01 00:28:23|2019-10-01 00:34:33|            null|          56|        null|B00021         |\n",
      "+----------------------+--------------------+-------------------+----------------+------------+------------+---------------+\n",
      "only showing top 10 rows\n",
      "\n"
     ]
    }
   ],
   "source": [
    "df.show(10)"
   ]
  },
  {
   "cell_type": "code",
   "execution_count": 9,
   "metadata": {},
   "outputs": [
    {
     "data": {
      "text/plain": [
       "62295"
      ]
     },
     "execution_count": 9,
     "metadata": {},
     "output_type": "execute_result"
    }
   ],
   "source": [
    "df \\\n",
    "    .withColumn('pickup_date', F.to_date('pickup_datetime')) \\\n",
    "    .filter(F.col(\"pickup_date\") == \"2019-10-15\") \\\n",
    "    .count()"
   ]
  },
  {
   "cell_type": "markdown",
   "metadata": {},
   "source": [
    "____"
   ]
  },
  {
   "cell_type": "code",
   "execution_count": 10,
   "metadata": {},
   "outputs": [],
   "source": [
    "df_pandas = pd.read_csv('../data/fhv_tripdata_2019-10.csv')"
   ]
  },
  {
   "cell_type": "code",
   "execution_count": 11,
   "metadata": {},
   "outputs": [
    {
     "data": {
      "text/plain": [
       "(1897493, 7)"
      ]
     },
     "execution_count": 11,
     "metadata": {},
     "output_type": "execute_result"
    }
   ],
   "source": [
    "df_pandas.shape"
   ]
  },
  {
   "cell_type": "code",
   "execution_count": 12,
   "metadata": {},
   "outputs": [],
   "source": [
    "assert df_pandas.shape[0] == df.count()"
   ]
  },
  {
   "cell_type": "code",
   "execution_count": 13,
   "metadata": {},
   "outputs": [
    {
     "data": {
      "text/html": [
       "<div>\n",
       "<style scoped>\n",
       "    .dataframe tbody tr th:only-of-type {\n",
       "        vertical-align: middle;\n",
       "    }\n",
       "\n",
       "    .dataframe tbody tr th {\n",
       "        vertical-align: top;\n",
       "    }\n",
       "\n",
       "    .dataframe thead th {\n",
       "        text-align: right;\n",
       "    }\n",
       "</style>\n",
       "<table border=\"1\" class=\"dataframe\">\n",
       "  <thead>\n",
       "    <tr style=\"text-align: right;\">\n",
       "      <th></th>\n",
       "      <th>dispatching_base_num</th>\n",
       "      <th>pickup_datetime</th>\n",
       "      <th>dropOff_datetime</th>\n",
       "      <th>PUlocationID</th>\n",
       "      <th>DOlocationID</th>\n",
       "      <th>SR_Flag</th>\n",
       "      <th>Affiliated_base_number</th>\n",
       "    </tr>\n",
       "  </thead>\n",
       "  <tbody>\n",
       "    <tr>\n",
       "      <th>0</th>\n",
       "      <td>B00009</td>\n",
       "      <td>2019-10-01 00:23:00</td>\n",
       "      <td>2019-10-01 00:35:00</td>\n",
       "      <td>264.0</td>\n",
       "      <td>264.0</td>\n",
       "      <td>NaN</td>\n",
       "      <td>B00009</td>\n",
       "    </tr>\n",
       "    <tr>\n",
       "      <th>1</th>\n",
       "      <td>B00013</td>\n",
       "      <td>2019-10-01 00:11:29</td>\n",
       "      <td>2019-10-01 00:13:22</td>\n",
       "      <td>264.0</td>\n",
       "      <td>264.0</td>\n",
       "      <td>NaN</td>\n",
       "      <td>B00013</td>\n",
       "    </tr>\n",
       "    <tr>\n",
       "      <th>2</th>\n",
       "      <td>B00014</td>\n",
       "      <td>2019-10-01 00:11:43</td>\n",
       "      <td>2019-10-01 00:37:20</td>\n",
       "      <td>264.0</td>\n",
       "      <td>264.0</td>\n",
       "      <td>NaN</td>\n",
       "      <td>B00014</td>\n",
       "    </tr>\n",
       "    <tr>\n",
       "      <th>3</th>\n",
       "      <td>B00014</td>\n",
       "      <td>2019-10-01 00:56:29</td>\n",
       "      <td>2019-10-01 00:57:47</td>\n",
       "      <td>264.0</td>\n",
       "      <td>264.0</td>\n",
       "      <td>NaN</td>\n",
       "      <td>B00014</td>\n",
       "    </tr>\n",
       "    <tr>\n",
       "      <th>4</th>\n",
       "      <td>B00014</td>\n",
       "      <td>2019-10-01 00:23:09</td>\n",
       "      <td>2019-10-01 00:28:27</td>\n",
       "      <td>264.0</td>\n",
       "      <td>264.0</td>\n",
       "      <td>NaN</td>\n",
       "      <td>B00014</td>\n",
       "    </tr>\n",
       "  </tbody>\n",
       "</table>\n",
       "</div>"
      ],
      "text/plain": [
       "  dispatching_base_num      pickup_datetime     dropOff_datetime  \\\n",
       "0               B00009  2019-10-01 00:23:00  2019-10-01 00:35:00   \n",
       "1               B00013  2019-10-01 00:11:29  2019-10-01 00:13:22   \n",
       "2               B00014  2019-10-01 00:11:43  2019-10-01 00:37:20   \n",
       "3               B00014  2019-10-01 00:56:29  2019-10-01 00:57:47   \n",
       "4               B00014  2019-10-01 00:23:09  2019-10-01 00:28:27   \n",
       "\n",
       "   PUlocationID  DOlocationID  SR_Flag Affiliated_base_number  \n",
       "0         264.0         264.0      NaN                 B00009  \n",
       "1         264.0         264.0      NaN                 B00013  \n",
       "2         264.0         264.0      NaN                 B00014  \n",
       "3         264.0         264.0      NaN                 B00014  \n",
       "4         264.0         264.0      NaN                 B00014  "
      ]
     },
     "execution_count": 13,
     "metadata": {},
     "output_type": "execute_result"
    }
   ],
   "source": [
    "df_pandas.head()"
   ]
  },
  {
   "cell_type": "code",
   "execution_count": 14,
   "metadata": {},
   "outputs": [
    {
     "name": "stdout",
     "output_type": "stream",
     "text": [
      "<class 'pandas.core.frame.DataFrame'>\n",
      "RangeIndex: 1897493 entries, 0 to 1897492\n",
      "Data columns (total 7 columns):\n",
      " #   Column                  Dtype  \n",
      "---  ------                  -----  \n",
      " 0   dispatching_base_num    object \n",
      " 1   pickup_datetime         object \n",
      " 2   dropOff_datetime        object \n",
      " 3   PUlocationID            float64\n",
      " 4   DOlocationID            float64\n",
      " 5   SR_Flag                 float64\n",
      " 6   Affiliated_base_number  object \n",
      "dtypes: float64(3), object(4)\n",
      "memory usage: 101.3+ MB\n"
     ]
    }
   ],
   "source": [
    "df_pandas.info()"
   ]
  },
  {
   "cell_type": "code",
   "execution_count": 15,
   "metadata": {},
   "outputs": [],
   "source": [
    "df_pandas['pickup_datetime'] = pd.to_datetime(df_pandas['pickup_datetime'])\n",
    "df_pandas['pickup_date'] = df_pandas['pickup_datetime'].dt.date.astype(str)"
   ]
  },
  {
   "cell_type": "code",
   "execution_count": 16,
   "metadata": {},
   "outputs": [
    {
     "data": {
      "text/plain": [
       "62610"
      ]
     },
     "execution_count": 16,
     "metadata": {},
     "output_type": "execute_result"
    }
   ],
   "source": [
    "len(df_pandas[df_pandas['pickup_date'] == '2019-10-15'])"
   ]
  },
  {
   "cell_type": "markdown",
   "metadata": {},
   "source": [
    "----"
   ]
  },
  {
   "cell_type": "code",
   "execution_count": 17,
   "metadata": {},
   "outputs": [
    {
     "data": {
      "text/html": [
       "<div>\n",
       "<style scoped>\n",
       "    .dataframe tbody tr th:only-of-type {\n",
       "        vertical-align: middle;\n",
       "    }\n",
       "\n",
       "    .dataframe tbody tr th {\n",
       "        vertical-align: top;\n",
       "    }\n",
       "\n",
       "    .dataframe thead th {\n",
       "        text-align: right;\n",
       "    }\n",
       "</style>\n",
       "<table border=\"1\" class=\"dataframe\">\n",
       "  <thead>\n",
       "    <tr style=\"text-align: right;\">\n",
       "      <th></th>\n",
       "      <th>dispatching_base_num</th>\n",
       "    </tr>\n",
       "    <tr>\n",
       "      <th>pickup_date</th>\n",
       "      <th></th>\n",
       "    </tr>\n",
       "  </thead>\n",
       "  <tbody>\n",
       "    <tr>\n",
       "      <th>2019-10-01</th>\n",
       "      <td>59873</td>\n",
       "    </tr>\n",
       "    <tr>\n",
       "      <th>2019-10-02</th>\n",
       "      <td>68746</td>\n",
       "    </tr>\n",
       "    <tr>\n",
       "      <th>2019-10-03</th>\n",
       "      <td>71638</td>\n",
       "    </tr>\n",
       "    <tr>\n",
       "      <th>2019-10-04</th>\n",
       "      <td>68227</td>\n",
       "    </tr>\n",
       "    <tr>\n",
       "      <th>2019-10-05</th>\n",
       "      <td>52398</td>\n",
       "    </tr>\n",
       "    <tr>\n",
       "      <th>2019-10-06</th>\n",
       "      <td>45665</td>\n",
       "    </tr>\n",
       "    <tr>\n",
       "      <th>2019-10-07</th>\n",
       "      <td>66137</td>\n",
       "    </tr>\n",
       "    <tr>\n",
       "      <th>2019-10-08</th>\n",
       "      <td>64049</td>\n",
       "    </tr>\n",
       "    <tr>\n",
       "      <th>2019-10-09</th>\n",
       "      <td>60468</td>\n",
       "    </tr>\n",
       "    <tr>\n",
       "      <th>2019-10-10</th>\n",
       "      <td>68559</td>\n",
       "    </tr>\n",
       "    <tr>\n",
       "      <th>2019-10-11</th>\n",
       "      <td>67715</td>\n",
       "    </tr>\n",
       "    <tr>\n",
       "      <th>2019-10-12</th>\n",
       "      <td>51434</td>\n",
       "    </tr>\n",
       "    <tr>\n",
       "      <th>2019-10-13</th>\n",
       "      <td>45900</td>\n",
       "    </tr>\n",
       "    <tr>\n",
       "      <th>2019-10-14</th>\n",
       "      <td>52665</td>\n",
       "    </tr>\n",
       "    <tr>\n",
       "      <th>2019-10-15</th>\n",
       "      <td>62610</td>\n",
       "    </tr>\n",
       "    <tr>\n",
       "      <th>2019-10-16</th>\n",
       "      <td>68156</td>\n",
       "    </tr>\n",
       "    <tr>\n",
       "      <th>2019-10-17</th>\n",
       "      <td>67656</td>\n",
       "    </tr>\n",
       "    <tr>\n",
       "      <th>2019-10-18</th>\n",
       "      <td>68471</td>\n",
       "    </tr>\n",
       "    <tr>\n",
       "      <th>2019-10-19</th>\n",
       "      <td>52530</td>\n",
       "    </tr>\n",
       "    <tr>\n",
       "      <th>2019-10-20</th>\n",
       "      <td>48304</td>\n",
       "    </tr>\n",
       "    <tr>\n",
       "      <th>2019-10-21</th>\n",
       "      <td>61381</td>\n",
       "    </tr>\n",
       "    <tr>\n",
       "      <th>2019-10-22</th>\n",
       "      <td>62950</td>\n",
       "    </tr>\n",
       "    <tr>\n",
       "      <th>2019-10-23</th>\n",
       "      <td>66429</td>\n",
       "    </tr>\n",
       "    <tr>\n",
       "      <th>2019-10-24</th>\n",
       "      <td>67663</td>\n",
       "    </tr>\n",
       "    <tr>\n",
       "      <th>2019-10-25</th>\n",
       "      <td>67648</td>\n",
       "    </tr>\n",
       "    <tr>\n",
       "      <th>2019-10-26</th>\n",
       "      <td>52569</td>\n",
       "    </tr>\n",
       "    <tr>\n",
       "      <th>2019-10-27</th>\n",
       "      <td>47708</td>\n",
       "    </tr>\n",
       "    <tr>\n",
       "      <th>2019-10-28</th>\n",
       "      <td>64075</td>\n",
       "    </tr>\n",
       "    <tr>\n",
       "      <th>2019-10-29</th>\n",
       "      <td>65393</td>\n",
       "    </tr>\n",
       "    <tr>\n",
       "      <th>2019-10-30</th>\n",
       "      <td>66504</td>\n",
       "    </tr>\n",
       "    <tr>\n",
       "      <th>2019-10-31</th>\n",
       "      <td>63972</td>\n",
       "    </tr>\n",
       "  </tbody>\n",
       "</table>\n",
       "</div>"
      ],
      "text/plain": [
       "             dispatching_base_num\n",
       "pickup_date                      \n",
       "2019-10-01                  59873\n",
       "2019-10-02                  68746\n",
       "2019-10-03                  71638\n",
       "2019-10-04                  68227\n",
       "2019-10-05                  52398\n",
       "2019-10-06                  45665\n",
       "2019-10-07                  66137\n",
       "2019-10-08                  64049\n",
       "2019-10-09                  60468\n",
       "2019-10-10                  68559\n",
       "2019-10-11                  67715\n",
       "2019-10-12                  51434\n",
       "2019-10-13                  45900\n",
       "2019-10-14                  52665\n",
       "2019-10-15                  62610\n",
       "2019-10-16                  68156\n",
       "2019-10-17                  67656\n",
       "2019-10-18                  68471\n",
       "2019-10-19                  52530\n",
       "2019-10-20                  48304\n",
       "2019-10-21                  61381\n",
       "2019-10-22                  62950\n",
       "2019-10-23                  66429\n",
       "2019-10-24                  67663\n",
       "2019-10-25                  67648\n",
       "2019-10-26                  52569\n",
       "2019-10-27                  47708\n",
       "2019-10-28                  64075\n",
       "2019-10-29                  65393\n",
       "2019-10-30                  66504\n",
       "2019-10-31                  63972"
      ]
     },
     "execution_count": 17,
     "metadata": {},
     "output_type": "execute_result"
    }
   ],
   "source": [
    "df_pandas[['dispatching_base_num', 'pickup_date']].groupby(['pickup_date']).count()"
   ]
  },
  {
   "cell_type": "code",
   "execution_count": 18,
   "metadata": {},
   "outputs": [
    {
     "name": "stdout",
     "output_type": "stream",
     "text": [
      "+-----------+-----+\n",
      "|pickup_date|count|\n",
      "+-----------+-----+\n",
      "| 2019-10-01|59167|\n",
      "| 2019-10-02|68402|\n",
      "| 2019-10-03|71304|\n",
      "| 2019-10-04|67969|\n",
      "| 2019-10-05|52365|\n",
      "| 2019-10-06|45732|\n",
      "| 2019-10-07|65826|\n",
      "| 2019-10-08|63800|\n",
      "| 2019-10-09|60191|\n",
      "| 2019-10-10|68231|\n",
      "| 2019-10-11|67348|\n",
      "| 2019-10-12|51455|\n",
      "| 2019-10-13|45960|\n",
      "| 2019-10-14|52478|\n",
      "| 2019-10-15|62295|\n",
      "| 2019-10-16|67868|\n",
      "| 2019-10-17|67267|\n",
      "| 2019-10-18|68336|\n",
      "| 2019-10-19|52611|\n",
      "| 2019-10-20|48316|\n",
      "| 2019-10-21|61102|\n",
      "| 2019-10-22|62590|\n",
      "| 2019-10-23|66164|\n",
      "| 2019-10-24|67316|\n",
      "| 2019-10-25|67349|\n",
      "| 2019-10-26|52537|\n",
      "| 2019-10-27|47942|\n",
      "| 2019-10-28|63750|\n",
      "| 2019-10-29|65068|\n",
      "| 2019-10-30|66225|\n",
      "| 2019-10-31|63869|\n",
      "| 2019-11-01|  397|\n",
      "| 2019-11-02|    1|\n",
      "| 2019-11-03| 6247|\n",
      "| 2019-11-04|    1|\n",
      "| 2019-11-05|    1|\n",
      "| 2019-11-07|    1|\n",
      "| 2019-11-11|    1|\n",
      "| 2019-11-24|    1|\n",
      "| 2019-11-28|    1|\n",
      "| 2019-12-08|    2|\n",
      "| 2019-12-30|    1|\n",
      "| 2020-10-18|    1|\n",
      "| 2020-10-26|    1|\n",
      "| 2027-10-01|    1|\n",
      "| 2029-11-01|    1|\n",
      "| 2091-10-11|    1|\n",
      "| 2091-10-28|    1|\n",
      "+-----------+-----+\n",
      "\n"
     ]
    }
   ],
   "source": [
    "trip_counts_by_date = df \\\n",
    "                        .withColumn('pickup_date', F.to_date('pickup_datetime')) \\\n",
    "                        .groupBy(\"pickup_date\").count().orderBy(\"pickup_date\")\n",
    "\n",
    "# Show the results\n",
    "trip_counts_by_date.show(100)"
   ]
  },
  {
   "cell_type": "markdown",
   "metadata": {},
   "source": [
    "---"
   ]
  },
  {
   "cell_type": "code",
   "execution_count": 19,
   "metadata": {},
   "outputs": [],
   "source": [
    "schema = types.StructType([\n",
    "    types.StructField('Affiliated_base_number', types.StringType(), True),\n",
    "    types.StructField('dispatching_base_num', types.StringType(), True),\n",
    "    types.StructField('pickup_datetime', types.TimestampType(), True),\n",
    "    types.StructField('dropoff_datetime', types.TimestampType(), True),\n",
    "    types.StructField('PULocationID', types.IntegerType(), True),\n",
    "    types.StructField('DOLocationID', types.IntegerType(), True),\n",
    "    types.StructField('SR_Flag', types.StringType(), True)\n",
    "])"
   ]
  },
  {
   "cell_type": "code",
   "execution_count": 20,
   "metadata": {},
   "outputs": [],
   "source": [
    "df_sp = spark.read \\\n",
    "    .option(\"header\", \"true\") \\\n",
    "    .option(\"timestampFormat\", \"yyyy-MM-dd HH:mm:ss\") \\\n",
    "    .schema(schema) \\\n",
    "    .csv('../data/fhv_tripdata_2019-10.csv',)"
   ]
  },
  {
   "cell_type": "code",
   "execution_count": 21,
   "metadata": {},
   "outputs": [
    {
     "name": "stdout",
     "output_type": "stream",
     "text": [
      "+----------------------+--------------------+-------------------+----------------+------------+------------+---------------+\n",
      "|Affiliated_base_number|dispatching_base_num|    pickup_datetime|dropoff_datetime|PULocationID|DOLocationID|        SR_Flag|\n",
      "+----------------------+--------------------+-------------------+----------------+------------+------------+---------------+\n",
      "|                B00009| 2019-10-01 00:23:00|2019-10-01 00:35:00|            null|         264|        null|         B00009|\n",
      "|                B00013| 2019-10-01 00:11:29|2019-10-01 00:13:22|            null|         264|        null|         B00013|\n",
      "|                B00014| 2019-10-01 00:11:43|2019-10-01 00:37:20|            null|         264|        null|         B00014|\n",
      "|                B00014| 2019-10-01 00:56:29|2019-10-01 00:57:47|            null|         264|        null|         B00014|\n",
      "|                B00014| 2019-10-01 00:23:09|2019-10-01 00:28:27|            null|         264|        null|         B00014|\n",
      "|       B00021         | 2019-10-01 00:00:48|2019-10-01 00:07:12|            null|         129|        null|B00021         |\n",
      "|       B00021         | 2019-10-01 00:47:23|2019-10-01 00:53:25|            null|          57|        null|B00021         |\n",
      "|       B00021         | 2019-10-01 00:10:06|2019-10-01 00:19:50|            null|         173|        null|B00021         |\n",
      "|       B00021         | 2019-10-01 00:51:37|2019-10-01 01:06:14|            null|         226|        null|B00021         |\n",
      "|       B00021         | 2019-10-01 00:28:23|2019-10-01 00:34:33|            null|          56|        null|B00021         |\n",
      "+----------------------+--------------------+-------------------+----------------+------------+------------+---------------+\n",
      "only showing top 10 rows\n",
      "\n"
     ]
    }
   ],
   "source": [
    "df_sp.show(10)"
   ]
  },
  {
   "cell_type": "code",
   "execution_count": null,
   "metadata": {},
   "outputs": [],
   "source": [
    "# from raw csv dispatching_base_num,pickup_datetime,dropOff_datetime,PUlocationID,DOlocationID,SR_Flag,Affiliated_base_number"
   ]
  },
  {
   "cell_type": "code",
   "execution_count": 22,
   "metadata": {},
   "outputs": [
    {
     "name": "stdout",
     "output_type": "stream",
     "text": [
      "+--------------------+-------------------+-------------------+------------+------------+-------+----------------------+\n",
      "|dispatching_base_num|    pickup_datetime|   dropoff_datetime|PULocationID|DOLocationID|SR_Flag|Affiliated_base_number|\n",
      "+--------------------+-------------------+-------------------+------------+------------+-------+----------------------+\n",
      "|              B00009|2019-10-01 00:23:00|2019-10-01 00:35:00|         264|         264|   null|                B00009|\n",
      "|              B00013|2019-10-01 00:11:29|2019-10-01 00:13:22|         264|         264|   null|                B00013|\n",
      "|              B00014|2019-10-01 00:11:43|2019-10-01 00:37:20|         264|         264|   null|                B00014|\n",
      "|              B00014|2019-10-01 00:56:29|2019-10-01 00:57:47|         264|         264|   null|                B00014|\n",
      "|              B00014|2019-10-01 00:23:09|2019-10-01 00:28:27|         264|         264|   null|                B00014|\n",
      "|     B00021         |2019-10-01 00:00:48|2019-10-01 00:07:12|         129|         129|   null|       B00021         |\n",
      "|     B00021         |2019-10-01 00:47:23|2019-10-01 00:53:25|          57|          57|   null|       B00021         |\n",
      "|     B00021         |2019-10-01 00:10:06|2019-10-01 00:19:50|         173|         173|   null|       B00021         |\n",
      "|     B00021         |2019-10-01 00:51:37|2019-10-01 01:06:14|         226|         226|   null|       B00021         |\n",
      "|     B00021         |2019-10-01 00:28:23|2019-10-01 00:34:33|          56|          56|   null|       B00021         |\n",
      "+--------------------+-------------------+-------------------+------------+------------+-------+----------------------+\n",
      "only showing top 10 rows\n",
      "\n"
     ]
    }
   ],
   "source": [
    "schema = types.StructType([\n",
    "    types.StructField('dispatching_base_num', types.StringType(), True),\n",
    "    types.StructField('pickup_datetime', types.TimestampType(), True),  \n",
    "    types.StructField('dropoff_datetime', types.TimestampType(), True),\n",
    "    types.StructField('PULocationID', types.IntegerType(), True),\n",
    "    types.StructField('DOLocationID', types.IntegerType(), True),\n",
    "    types.StructField('SR_Flag', types.StringType(), True),\n",
    "    types.StructField('Affiliated_base_number', types.StringType(), True),  \n",
    "])\n",
    "\n",
    "# Read the CSV file\n",
    "df_sp = spark.read \\\n",
    "    .option(\"header\", \"true\") \\\n",
    "    .option(\"timestampFormat\", \"yyyy-MM-dd HH:mm:ss\") \\\n",
    "    .schema(schema) \\\n",
    "    .csv('../data/fhv_tripdata_2019-10.csv')\n",
    "\n",
    "# Show the first 10 rows to verify the data\n",
    "df_sp.show(10)"
   ]
  },
  {
   "cell_type": "code",
   "execution_count": 23,
   "metadata": {},
   "outputs": [
    {
     "name": "stdout",
     "output_type": "stream",
     "text": [
      "+-----------+-----+\n",
      "|pickup_date|count|\n",
      "+-----------+-----+\n",
      "| 2019-10-01|59873|\n",
      "| 2019-10-02|68746|\n",
      "| 2019-10-03|71638|\n",
      "| 2019-10-04|68227|\n",
      "| 2019-10-05|52398|\n",
      "| 2019-10-06|45665|\n",
      "| 2019-10-07|66137|\n",
      "| 2019-10-08|64049|\n",
      "| 2019-10-09|60468|\n",
      "| 2019-10-10|68559|\n",
      "| 2019-10-11|67715|\n",
      "| 2019-10-12|51434|\n",
      "| 2019-10-13|45900|\n",
      "| 2019-10-14|52665|\n",
      "| 2019-10-15|62610|\n",
      "| 2019-10-16|68156|\n",
      "| 2019-10-17|67656|\n",
      "| 2019-10-18|68471|\n",
      "| 2019-10-19|52530|\n",
      "| 2019-10-20|48304|\n",
      "| 2019-10-21|61381|\n",
      "| 2019-10-22|62950|\n",
      "| 2019-10-23|66429|\n",
      "| 2019-10-24|67663|\n",
      "| 2019-10-25|67648|\n",
      "| 2019-10-26|52569|\n",
      "| 2019-10-27|47708|\n",
      "| 2019-10-28|64075|\n",
      "| 2019-10-29|65393|\n",
      "| 2019-10-30|66504|\n",
      "| 2019-10-31|63972|\n",
      "+-----------+-----+\n",
      "\n"
     ]
    }
   ],
   "source": [
    "df_sp \\\n",
    "    .withColumn(\"pickup_datetime\", F.col(\"pickup_datetime\").cast(\"string\")) \\\n",
    "    .withColumn(\"pickup_date\", F.col(\"pickup_datetime\").substr(1, 10)) \\\n",
    "    .withColumn('pickup_date', F.to_date('pickup_datetime')) \\\n",
    "    .groupBy(\"pickup_date\").count().orderBy(\"pickup_date\") \\\n",
    "    .show(100)\n"
   ]
  },
  {
   "cell_type": "code",
   "execution_count": 24,
   "metadata": {},
   "outputs": [
    {
     "data": {
      "text/plain": [
       "62610"
      ]
     },
     "execution_count": 24,
     "metadata": {},
     "output_type": "execute_result"
    }
   ],
   "source": [
    "df_sp \\\n",
    "    .withColumn('pickup_date', F.to_date('pickup_datetime')) \\\n",
    "    .filter(F.col(\"pickup_date\") == \"2019-10-15\") \\\n",
    "    .count()"
   ]
  },
  {
   "cell_type": "code",
   "execution_count": null,
   "metadata": {},
   "outputs": [],
   "source": []
  }
 ],
 "metadata": {
  "kernelspec": {
   "display_name": "spark_env",
   "language": "python",
   "name": "python3"
  },
  "language_info": {
   "codemirror_mode": {
    "name": "ipython",
    "version": 3
   },
   "file_extension": ".py",
   "mimetype": "text/x-python",
   "name": "python",
   "nbconvert_exporter": "python",
   "pygments_lexer": "ipython3",
   "version": "3.8.18"
  }
 },
 "nbformat": 4,
 "nbformat_minor": 2
}
